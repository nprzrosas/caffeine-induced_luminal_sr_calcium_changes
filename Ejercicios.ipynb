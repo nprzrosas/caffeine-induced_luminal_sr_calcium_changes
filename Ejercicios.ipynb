{
  "nbformat": 4,
  "nbformat_minor": 0,
  "metadata": {
    "colab": {
      "name": "Ejercicios.ipynb",
      "provenance": [],
      "authorship_tag": "ABX9TyPvuEzMXEJVRyFU4fvRJI7S",
      "include_colab_link": true
    },
    "kernelspec": {
      "name": "python3",
      "display_name": "Python 3"
    }
  },
  "cells": [
    {
      "cell_type": "markdown",
      "metadata": {
        "id": "view-in-github",
        "colab_type": "text"
      },
      "source": [
        "<a href=\"https://colab.research.google.com/github/nprzrosas/caffeine-induced_luminal_sr_calcium_changes/blob/master/Ejercicios.ipynb\" target=\"_parent\"><img src=\"https://colab.research.google.com/assets/colab-badge.svg\" alt=\"Open In Colab\"/></a>"
      ]
    },
    {
      "cell_type": "code",
      "metadata": {
        "colab": {
          "base_uri": "https://localhost:8080/"
        },
        "id": "TYhxOKJhPJwX",
        "outputId": "1052ebdb-8ede-4aad-8196-5840cd256243"
      },
      "source": [
        "print(\"hasta la vista babies\")"
      ],
      "execution_count": 2,
      "outputs": [
        {
          "output_type": "stream",
          "text": [
            "hasta la vista babies\n"
          ],
          "name": "stdout"
        }
      ]
    },
    {
      "cell_type": "code",
      "metadata": {
        "colab": {
          "base_uri": "https://localhost:8080/"
        },
        "id": "EUTtyevVPOzp",
        "outputId": "e8535750-2c85-40a7-8d51-bcbe9aff4384"
      },
      "source": [
        "print(\"hello mundo\")"
      ],
      "execution_count": 1,
      "outputs": [
        {
          "output_type": "stream",
          "text": [
            "hello mundo\n"
          ],
          "name": "stdout"
        }
      ]
    }
  ]
}